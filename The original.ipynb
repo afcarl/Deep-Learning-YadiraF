{
 "cells": [
  {
   "cell_type": "markdown",
   "metadata": {},
   "source": [
    "The original\n",
    "=============================\n",
    "\n",
    "I think Neuroscience and Philosophy are two most important subjects in AI, one is to study how we think, why we are so intelligent, the other is the guide of all sciences, leads us the correct study direction.   \n",
    "And the Math and Computer Science are useful tools to achieve the AI and apply in real world.\n",
    "\n"
   ]
  },
  {
   "cell_type": "markdown",
   "metadata": {},
   "source": [
    "Neuroscience\n",
    "============================\n",
    "\n",
    "### * Receptive Field  \n",
    "CNN的motivation  \n",
    "> Hubel and Wiesel’s early work on the cat’s visual cortex, we know the visual cortex contains a complex arrangement of cells. These cells are sensitive to small sub-regions of the visual field, called a receptive field. The sub-regions are tiled to cover the entire visual field. These cells act as local filters over the input space and are well-suited to exploit the strong spatially local correlation present in natural images.  \n",
    "\n",
    "http://hubel.med.harvard.edu/papers/HubelWiesel1968Jphysiol.pdf\n",
    "\n",
    "\n",
    "---------------------------------------------------------------------------------------\n",
    "\n",
    "下面是一些最近的神经科学的内容，纯了解，很多是从公众号上直接扒来的\n",
    "#### * 一个调节反感记忆强度的反馈神经回路(A feedback neural circuit for calibrating aversive memory strength)\n",
    "\n",
    "\n",
    "#### * 置信的显性表达对未来重要的决定提供信息（Explicit representation of confidence informs future value-based decisions）\n",
    "一个对置信的显性而且准确的表达会对未来重要决定的质量上有正面的影响。  \n",
    "#### * 抽象维度的视觉印象可以被简要的统计形式所表达。这些统计表达通常潜藏于我们丰富的感知经验之中。\n",
    "\n",
    "http://mp.weixin.qq.com/s/rQ93vhzYZ8aYdA6d60_zGw\n"
   ]
  },
  {
   "cell_type": "markdown",
   "metadata": {},
   "source": [
    "Philosophy\n",
    "================================"
   ]
  }
 ],
 "metadata": {
  "kernelspec": {
   "display_name": "Python 2",
   "language": "python",
   "name": "python2"
  },
  "language_info": {
   "codemirror_mode": {
    "name": "ipython",
    "version": 2
   },
   "file_extension": ".py",
   "mimetype": "text/x-python",
   "name": "python",
   "nbconvert_exporter": "python",
   "pygments_lexer": "ipython2",
   "version": "2.7.11"
  }
 },
 "nbformat": 4,
 "nbformat_minor": 0
}
