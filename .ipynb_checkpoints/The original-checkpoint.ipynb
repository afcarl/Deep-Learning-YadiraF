{
 "cells": [
  {
   "cell_type": "markdown",
   "metadata": {},
   "source": [
    "The original\n",
    "=============================\n",
    "\n",
    "I think Neuroscience and Philosophy are two most important subjects in AI, one is to study how we think, why we are so intelligent, the other is the guide of all sciences, leads us the correct study direction.   \n",
    "And the Math and Computer Science are useful tools to achieve the AI and apply in real world.\n",
    "\n"
   ]
  },
  {
   "cell_type": "markdown",
   "metadata": {},
   "source": [
    "Neuroscience\n",
    "============================\n",
    "\n",
    "### * Receptive Field  \n",
    "CNN的motivation  \n",
    "> Hubel and Wiesel’s early work on the cat’s visual cortex, we know the visual cortex contains a complex arrangement of cells. These cells are sensitive to small sub-regions of the visual field, called a receptive field. The sub-regions are tiled to cover the entire visual field. These cells act as local filters over the input space and are well-suited to exploit the strong spatially local correlation present in natural images.  \n",
    "\n",
    "http://hubel.med.harvard.edu/papers/HubelWiesel1968Jphysiol.pdf\n",
    "\n",
    "\n",
    "---------------------------------------------------------------------------------------\n",
    "\n",
    "下面是一些最近的神经科学的内容，纯了解，很多是从公众号上直接扒来的\n",
    "#### * 一个调节反感记忆强度的反馈神经回路(A feedback neural circuit for calibrating aversive memory strength)\n",
    "![CeA–vlPAG](./images/CeA-vlPAG.jpg)\n",
    "\n",
    " \n",
    "\n",
    "#### * 置信的显性表达对未来重要的决定提供信息（Explicit representation of confidence informs future value-based decisions）\n",
    "一个对置信的显性而且准确的表达会对未来重要决定的质量上有正面的影响。  \n",
    "#### * 抽象维度的视觉印象可以被简要的统计形式所表达。这些统计表达通常潜藏于我们丰富的感知经验之中。\n",
    "以上3个 from  http://mp.weixin.qq.com/s/rQ93vhzYZ8aYdA6d60_zGw\n",
    "\n",
    "\n",
    "#### * The cognitive neural basis of object knowledge  \n",
    "\n",
    "晚上在VALSE看的毕彦超老师的share, 有些东西very interesting啊  \n",
    "认知科学也很赞  \n",
    "\n",
    "* 同一个物体的不同方面的特征分别被储存在大脑不同的区域  \n",
    "和今天看到的http://mp.weixin.qq.com/s/2ytV5Bt50yhYOFYXYQe6ZQ 研究视觉要从一个agent（执行者）的角度，带着任务进来的这么一个人或机器人，主动地去激发视觉\n",
    "\n",
    "* 在复杂场景中，人在识别动物和其他类型物体的时候更有优势\n",
    "\n",
    "* 在输入视觉信息时，听觉皮层呈现负激活（被抑制). and vice versa.\n",
    "\n",
    "* 在人的大脑中，名词和动词的表征有一定的分离\n",
    "\n",
    "* 人和猴子都有FFA，看见面孔都会有更强的激活\n"
   ]
  },
  {
   "cell_type": "markdown",
   "metadata": {},
   "source": [
    "Philosophy\n",
    "================================\n",
    "\n",
    "#### * Occam's razor"
   ]
  }
 ],
 "metadata": {
  "anaconda-cloud": {},
  "kernelspec": {
   "display_name": "Python [default]",
   "language": "python",
   "name": "python2"
  },
  "language_info": {
   "codemirror_mode": {
    "name": "ipython",
    "version": 2
   },
   "file_extension": ".py",
   "mimetype": "text/x-python",
   "name": "python",
   "nbconvert_exporter": "python",
   "pygments_lexer": "ipython2",
   "version": "2.7.12"
  }
 },
 "nbformat": 4,
 "nbformat_minor": 0
}
