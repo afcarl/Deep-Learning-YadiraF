{
 "cells": [
  {
   "cell_type": "markdown",
   "metadata": {},
   "source": [
    "Classical Neural Networks (simple)\n",
    "==============================\n",
    "\n",
    "1. LeNet\n",
    "----------------------\n",
    "\n",
    "\n",
    "2. AlexNet\n",
    "----------------------\n",
    "http://papers.nips.cc/paper/4824-imagenet-classification-with-deep-convolutional-neural-networks\n",
    "\n",
    "3. VGGNet\n",
    "----------------------\n",
    "\n",
    "4. GoogleNet\n",
    "----------------------\n"
   ]
  }
 ],
 "metadata": {
  "kernelspec": {
   "display_name": "Python [conda root]",
   "language": "python",
   "name": "conda-root-py"
  },
  "language_info": {
   "codemirror_mode": {
    "name": "ipython",
    "version": 2
   },
   "file_extension": ".py",
   "mimetype": "text/x-python",
   "name": "python",
   "nbconvert_exporter": "python",
   "pygments_lexer": "ipython2",
   "version": "2.7.12"
  }
 },
 "nbformat": 4,
 "nbformat_minor": 1
}
