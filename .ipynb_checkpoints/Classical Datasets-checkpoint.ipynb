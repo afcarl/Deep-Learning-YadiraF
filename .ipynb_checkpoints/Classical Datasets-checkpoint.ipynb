{
 "cells": [
  {
   "cell_type": "markdown",
   "metadata": {},
   "source": [
    "Classical Datasets in Computer Vision\n",
    "=======================================\n",
    "\n",
    "1. MNIST\n",
    "----------------\n",
    "> When one learns how to program, there's a tradition that the first thing you do is print \"Hello World.\" Just like programming has Hello World, machine learning has MNIST. --TensorFlow Tutorials\n",
    "\n",
    "website: http://yann.lecun.com/exdb/mnist/  \n",
    "4files:  \n",
    "train-images-idx3-ubyte: training set images   \n",
    "train-labels-idx1-ubyte: training set labels   \n",
    "t10k-images-idx3-ubyte:  test set images  \n",
    "t10k-labels-idx1-ubyte:  test set labels \n",
    "\n",
    "|      set     | examples | size  |\n",
    "| :----------: | :------: | :---: |\n",
    "| training set |  60,000  | ~9.5M |\n",
    "|  test set    |  10,000  | ~1.6M | \n",
    "  \n",
    "\n",
    "\n",
    "2. IMAGENET\n",
    "-----------------\n",
    "\n",
    "\n",
    "**************************************************************\n",
    "\n",
    "* Ref\n",
    "----------------------\n",
    "http://deeplearning.net/datasets/"
   ]
  }
 ],
 "metadata": {
  "anaconda-cloud": {},
  "kernelspec": {
   "display_name": "Python [default]",
   "language": "python",
   "name": "python2"
  },
  "language_info": {
   "codemirror_mode": {
    "name": "ipython",
    "version": 2
   },
   "file_extension": ".py",
   "mimetype": "text/x-python",
   "name": "python",
   "nbconvert_exporter": "python",
   "pygments_lexer": "ipython2",
   "version": "2.7.12"
  }
 },
 "nbformat": 4,
 "nbformat_minor": 1
}
