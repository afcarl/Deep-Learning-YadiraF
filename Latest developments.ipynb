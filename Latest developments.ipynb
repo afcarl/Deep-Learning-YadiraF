{
 "cells": [
  {
   "cell_type": "markdown",
   "metadata": {},
   "source": [
    "Latest developments\n",
    "===========================\n",
    "\n",
    "好久没好好学习了（忏悔下），现在一个个补上...  \n",
    "no order，随便看到啥补啥  \n",
    "\n",
    "* Center Loss\n",
    "---------------------\n",
    "paper: http://ydwen.github.io/papers/WenECCV16.pdf  \n",
    "推荐看这个 http://mp.weixin.qq.com/s/ZiC6GbNl2mYU3qBCckHfdA 这哥们写的忒有意思了  \n",
    "+ motivation  \n",
    "\n",
    "> softmax loss:  \n",
    "only encourage the separability of features.The resulting features are not sufficiently effective for face recognition.  \n",
    "\n",
    "> contrastive loss and triplet loss:  \n",
    "compared to the image samples, the number of training pairs or triplets dramatically grows.  \n",
    "carefully selecting the image pairs or triplets significantly increases the computational complexity and the training procedure becomes inconvenient.\n",
    "\n",
    "\n",
    "+ Center Loss\n",
    "$$ L= L_s+L_c= $$\n",
    "\n",
    "+ Codes"
   ]
  }
 ],
 "metadata": {
  "anaconda-cloud": {},
  "kernelspec": {
   "display_name": "Python [default]",
   "language": "python",
   "name": "python2"
  },
  "language_info": {
   "codemirror_mode": {
    "name": "ipython",
    "version": 2
   },
   "file_extension": ".py",
   "mimetype": "text/x-python",
   "name": "python",
   "nbconvert_exporter": "python",
   "pygments_lexer": "ipython2",
   "version": "2.7.12"
  }
 },
 "nbformat": 4,
 "nbformat_minor": 1
}
